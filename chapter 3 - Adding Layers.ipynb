{
 "cells": [
  {
   "cell_type": "code",
   "execution_count": 2,
   "metadata": {},
   "outputs": [
    {
     "name": "stdout",
     "output_type": "stream",
     "text": [
      "\n",
      "layer1_output: \n",
      "[[ 4.8    1.21   2.385]\n",
      " [ 8.9   -1.81   0.2  ]\n",
      " [ 1.41   1.051  0.026]]\n",
      "\n",
      "layer2_output: \n",
      "[[ 0.5031  -1.04185 -2.03875]\n",
      " [ 0.2434  -2.7332  -5.7633 ]\n",
      " [-0.99314  1.41254 -0.35655]]\n"
     ]
    }
   ],
   "source": [
    "import numpy as np\n",
    "\n",
    "inputs = [\n",
    "    [1.0, 2.0, 3.0, 2.5], \n",
    "    [2.0, 5.0, -1.0, 2.0], \n",
    "    [-1.5, 2.7, 3.3, -0.8]\n",
    "] \n",
    "weights = [\n",
    "    [0.2, 0.8, -0.5, 1.0], \n",
    "    [0.5, -0.91, 0.26, -0.5], \n",
    "    [-0.26, -0.27, 0.17, 0.87]\n",
    "] \n",
    "biases = [2.0, 3.0, 0.5] \n",
    "\n",
    "weights2 = [[0.1, -0.14, 0.5], \n",
    "           [-0.5, 0.12, -0.33], \n",
    "           [-0.44, 0.73, -0.13]] \n",
    "biases2 = [-1, 2, -0.5]\n",
    "\n",
    "layer1_outputs = np.dot(inputs, np.array(weights).T) + biases\n",
    "layer2_outputs = np.dot(layer1_outputs, np.array(weights2).T) + biases2\n",
    "\n",
    "print(f\"\\nlayer1_output: \\n{layer1_outputs}\")\n",
    "print(f\"\\nlayer2_output: \\n{layer2_outputs}\")"
   ]
  },
  {
   "cell_type": "code",
   "execution_count": null,
   "metadata": {},
   "outputs": [],
   "source": []
  }
 ],
 "metadata": {
  "kernelspec": {
   "display_name": "base",
   "language": "python",
   "name": "python3"
  },
  "language_info": {
   "codemirror_mode": {
    "name": "ipython",
    "version": 3
   },
   "file_extension": ".py",
   "mimetype": "text/x-python",
   "name": "python",
   "nbconvert_exporter": "python",
   "pygments_lexer": "ipython3",
   "version": "3.11.5"
  }
 },
 "nbformat": 4,
 "nbformat_minor": 2
}
